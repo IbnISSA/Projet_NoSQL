{
 "cells": [
  {
   "cell_type": "code",
   "execution_count": 1,
   "metadata": {},
   "outputs": [],
   "source": [
    "from cassandra.cluster import Cluster\n",
    "\n",
    "# Connexion à Cassandra\n",
    "cluster = Cluster(['127.0.0.1'])\n",
    "session = cluster.connect()\n"
   ]
  },
  {
   "cell_type": "code",
   "execution_count": 2,
   "metadata": {},
   "outputs": [
    {
     "data": {
      "text/plain": [
       "<cassandra.cluster.ResultSet at 0x274d2091090>"
      ]
     },
     "execution_count": 2,
     "metadata": {},
     "output_type": "execute_result"
    }
   ],
   "source": [
    "\n",
    "# Création du keyspace et de la table\n",
    "session.execute(\"\"\"\n",
    "    CREATE KEYSPACE IF NOT EXISTS nosql_comparison\n",
    "    WITH REPLICATION = { 'class' : 'SimpleStrategy', 'replication_factor' : 1 }\n",
    "\"\"\")\n",
    "session.execute(\"\"\"\n",
    "    CREATE TABLE IF NOT EXISTS nosql_comparison.users (\n",
    "        user_id int PRIMARY KEY,\n",
    "        name text,\n",
    "        email text,\n",
    "        registration_date text\n",
    "    )\n",
    "\"\"\")\n"
   ]
  },
  {
   "cell_type": "code",
   "execution_count": 3,
   "metadata": {},
   "outputs": [],
   "source": [
    "\n",
    "# Exemples de données\n",
    "data = [\n",
    "    (1, \"Alice\", \"alice@example.com\", \"2024-01-01\"),\n",
    "    (2, \"Bob\", \"bob@example.com\", \"2024-01-02\"),\n",
    "    (3, \"Charlie\", \"charlie@example.com\", \"2024-01-03\"),\n",
    "]\n"
   ]
  },
  {
   "cell_type": "code",
   "execution_count": 4,
   "metadata": {},
   "outputs": [],
   "source": [
    "\n",
    "# Insertion de données dans Cassandra\n",
    "for record in data:\n",
    "    session.execute(\"\"\"\n",
    "        INSERT INTO nosql_comparison.users (user_id, name, email, registration_date)\n",
    "        VALUES (%s, %s, %s, %s)\n",
    "    \"\"\", record)\n"
   ]
  },
  {
   "cell_type": "code",
   "execution_count": 5,
   "metadata": {},
   "outputs": [
    {
     "name": "stdout",
     "output_type": "stream",
     "text": [
      "Row(user_id=1, email='alice@example.com', name='Alice', registration_date='2024-01-01')\n",
      "Row(user_id=2, email='bob@example.com', name='Bob', registration_date='2024-01-02')\n",
      "Row(user_id=3, email='charlie@example.com', name='Charlie', registration_date='2024-01-03')\n"
     ]
    }
   ],
   "source": [
    "\n",
    "# Lecture de données depuis Cassandra\n",
    "rows = session.execute(\"SELECT * FROM nosql_comparison.users\")\n",
    "for row in rows:\n",
    "    print(row)\n"
   ]
  },
  {
   "cell_type": "code",
   "execution_count": 6,
   "metadata": {},
   "outputs": [
    {
     "data": {
      "text/plain": [
       "<cassandra.cluster.ResultSet at 0x274d205a390>"
      ]
     },
     "execution_count": 6,
     "metadata": {},
     "output_type": "execute_result"
    }
   ],
   "source": [
    "\n",
    "# Mise à jour de données dans Cassandra\n",
    "session.execute(\"\"\"\n",
    "    UPDATE nosql_comparison.users SET email = %s WHERE user_id = %s\n",
    "\"\"\", (\"alice_new@example.com\", 1))\n"
   ]
  },
  {
   "cell_type": "code",
   "execution_count": 7,
   "metadata": {},
   "outputs": [
    {
     "data": {
      "text/plain": [
       "<cassandra.cluster.ResultSet at 0x274d2058c90>"
      ]
     },
     "execution_count": 7,
     "metadata": {},
     "output_type": "execute_result"
    }
   ],
   "source": [
    "\n",
    "# Suppression de Données dans Cassandra\n",
    "session.execute(\"DELETE FROM nosql_comparison.users WHERE user_id = 3\")\n"
   ]
  },
  {
   "cell_type": "code",
   "execution_count": null,
   "metadata": {},
   "outputs": [],
   "source": []
  }
 ],
 "metadata": {
  "kernelspec": {
   "display_name": "Python 3",
   "language": "python",
   "name": "python3"
  },
  "language_info": {
   "codemirror_mode": {
    "name": "ipython",
    "version": 3
   },
   "file_extension": ".py",
   "mimetype": "text/x-python",
   "name": "python",
   "nbconvert_exporter": "python",
   "pygments_lexer": "ipython3",
   "version": "3.11.5"
  }
 },
 "nbformat": 4,
 "nbformat_minor": 2
}
