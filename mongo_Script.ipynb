{
 "cells": [
  {
   "cell_type": "code",
   "execution_count": 1,
   "metadata": {},
   "outputs": [],
   "source": [
    "from pymongo import MongoClient\n",
    "\n",
    "# Connexion à MongoDB\n",
    "client = MongoClient(\"mongodb://localhost:27017/\")\n",
    "db = client[\"nosql_comparison\"]\n",
    "collection = db[\"users\"]\n"
   ]
  },
  {
   "cell_type": "code",
   "execution_count": 2,
   "metadata": {},
   "outputs": [],
   "source": [
    "\n",
    "# Données Simples\n",
    "data = [\n",
    "    {\"user_id\": 1, \"name\": \"Alice\", \"email\": \"alice@example.com\", \"registration_date\": \"2024-01-01\"},\n",
    "    {\"user_id\": 2, \"name\": \"Bob\", \"email\": \"bob@example.com\", \"registration_date\": \"2024-01-02\"},\n",
    "    {\"user_id\": 3, \"name\": \"Charlie\", \"email\": \"charlie@example.com\", \"registration_date\": \"2024-01-03\"},\n",
    "]\n"
   ]
  },
  {
   "cell_type": "code",
   "execution_count": 3,
   "metadata": {},
   "outputs": [
    {
     "data": {
      "text/plain": [
       "InsertManyResult([ObjectId('6696e8af7dfcd385ac5ff42f'), ObjectId('6696e8af7dfcd385ac5ff430'), ObjectId('6696e8af7dfcd385ac5ff431')], acknowledged=True)"
      ]
     },
     "execution_count": 3,
     "metadata": {},
     "output_type": "execute_result"
    }
   ],
   "source": [
    "\n",
    "# Insertion de données dans MongoDB\n",
    "collection.insert_many(data)\n"
   ]
  },
  {
   "cell_type": "code",
   "execution_count": 4,
   "metadata": {},
   "outputs": [
    {
     "name": "stdout",
     "output_type": "stream",
     "text": [
      "{'_id': ObjectId('6696e8af7dfcd385ac5ff42f'), 'user_id': 1, 'name': 'Alice', 'email': 'alice@example.com', 'registration_date': '2024-01-01'}\n",
      "{'_id': ObjectId('6696e8af7dfcd385ac5ff430'), 'user_id': 2, 'name': 'Bob', 'email': 'bob@example.com', 'registration_date': '2024-01-02'}\n",
      "{'_id': ObjectId('6696e8af7dfcd385ac5ff431'), 'user_id': 3, 'name': 'Charlie', 'email': 'charlie@example.com', 'registration_date': '2024-01-03'}\n"
     ]
    }
   ],
   "source": [
    "\n",
    "# Lecture de données depuis MongoDB\n",
    "for user in collection.find():\n",
    "    print(user)\n"
   ]
  },
  {
   "cell_type": "code",
   "execution_count": 5,
   "metadata": {},
   "outputs": [
    {
     "data": {
      "text/plain": [
       "UpdateResult({'n': 1, 'nModified': 1, 'ok': 1.0, 'updatedExisting': True}, acknowledged=True)"
      ]
     },
     "execution_count": 5,
     "metadata": {},
     "output_type": "execute_result"
    }
   ],
   "source": [
    "\n",
    "# Mise à jour de données dans MongoDB\n",
    "collection.update_one({\"user_id\": 1}, {\"$set\": {\"email\": \"alice_new@example.com\"}})\n"
   ]
  },
  {
   "cell_type": "code",
   "execution_count": 6,
   "metadata": {},
   "outputs": [
    {
     "data": {
      "text/plain": [
       "DeleteResult({'n': 1, 'ok': 1.0}, acknowledged=True)"
      ]
     },
     "execution_count": 6,
     "metadata": {},
     "output_type": "execute_result"
    }
   ],
   "source": [
    "\n",
    "# Suppression de données dans MongoDB\n",
    "collection.delete_one({\"user_id\": 3})\n"
   ]
  }
 ],
 "metadata": {
  "kernelspec": {
   "display_name": "Python 3",
   "language": "python",
   "name": "python3"
  },
  "language_info": {
   "codemirror_mode": {
    "name": "ipython",
    "version": 3
   },
   "file_extension": ".py",
   "mimetype": "text/x-python",
   "name": "python",
   "nbconvert_exporter": "python",
   "pygments_lexer": "ipython3",
   "version": "3.11.5"
  }
 },
 "nbformat": 4,
 "nbformat_minor": 2
}
